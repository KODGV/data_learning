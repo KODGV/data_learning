{
 "cells": [
  {
   "cell_type": "markdown",
   "metadata": {},
   "source": [
    "# 循环找最值"
   ]
  },
  {
   "cell_type": "code",
   "execution_count": null,
   "metadata": {},
   "outputs": [],
   "source": [
    "#通过字典保存了所有中间过程，不仅命名容易，而且便于后续操作\n",
    "d={d_name:get_dvalue(d_name) for d_name in d_list}\n",
    "best_dvalue_dname=min(d.items(),key=lambda x:x[1])\n"
   ]
  },
  {
   "cell_type": "markdown",
   "metadata": {},
   "source": [
    "# 遍历下标和值的时候"
   ]
  },
  {
   "cell_type": "code",
   "execution_count": null,
   "metadata": {},
   "outputs": [],
   "source": [
    "for index, item in enumerate(list1):\n",
    "    print index, item\n",
    "###########这样会比单纯用readlines()快\n",
    "count = 0\n",
    "for index, line in enumerate(open(filepath,'r'))： \n",
    "    count += 1"
   ]
  },
  {
   "cell_type": "markdown",
   "metadata": {},
   "source": [
    "# 启动markdown语法和忽略警告"
   ]
  },
  {
   "cell_type": "code",
   "execution_count": null,
   "metadata": {},
   "outputs": [],
   "source": [
    "'''Displays markdown formatted output like bold, italic bold etc.'''\n",
    "from IPython.display import Markdown\n",
    "def bold(string):\n",
    "    display(Markdown(string))\n",
    "\n",
    "'''Ignores deprecation warning.'''\n",
    "def ignore_warnings():\n",
    "    import warnings\n",
    "    warnings.filterwarnings('ignore', category = DeprecationWarning)  \n",
    "bold('**Merged data:**')\n",
    "display(merged.head())"
   ]
  },
  {
   "cell_type": "markdown",
   "metadata": {},
   "source": [
    "# Pandas运算"
   ]
  },
  {
   "cell_type": "code",
   "execution_count": null,
   "metadata": {},
   "outputs": [],
   "source": [
    "# 变量统计信息\n",
    "pd_name.v_name.value_counts(dropna = False)\n",
    "pd_name.v_name.value_counts(dropna = True)\n",
    "pd_name.describe\n",
    "# 对非空变量的操作\n",
    "display(merged.Cabin.isnull().sum())\n",
    "merged.Cabin.fillna(value = 'X', inplace = True)\n",
    "# 对变量进行字符串操作\n",
    "merged['Title'] = merged.Name.str.extract('([A-Za-z]+)\\.')\n",
    "#删除列\n",
    "merged.drop(columns = ['Name', 'Age', 'Fare'], inplace = True, axis = 1)\n",
    "#合并列\n",
    "https://www.jianshu.com/p/fe47c70d31f9"
   ]
  },
  {
   "cell_type": "markdown",
   "metadata": {},
   "source": [
    "# Numpy运算"
   ]
  },
  {
   "cell_type": "code",
   "execution_count": null,
   "metadata": {},
   "outputs": [],
   "source": [
    "#矩阵合并 \n",
    "x_train = np.concatenate(( et_oof_train, rf_oof_train, ada_oof_train, gb_oof_train, svc_oof_train), axis=1)\n",
    "#改变shape\n",
    "array.reshape(-1,1) #-1的意思是自动计算，即我只是想要一列，我不想算变成一列需要有多少行，系统可以自动帮你计算"
   ]
  },
  {
   "cell_type": "markdown",
   "metadata": {},
   "source": [
    "# 画图操作"
   ]
  },
  {
   "cell_type": "code",
   "execution_count": null,
   "metadata": {},
   "outputs": [],
   "source": [
    "import seaborn as sns\n",
    "#画条形图\n",
    "sns.barplot(x='Sex', y='Survived', data=train);# seaborn 的 barplot() 利用矩阵条的高度反映数值变量的集中趋势，展示的是变量的平均值\n",
    "sns.barplot(x='Sex', y='Survived', hue = 'Pclass', data=train);#加了图例的功能\n",
    "#相关性热度图\n",
    "colormap = plt.cm.RdBu\n",
    "plt.figure(figsize=(14,12))\n",
    "plt.title('Pearson Correlation of Features', y=1.05, size=15)\n",
    "sns.heatmap(train.astype(float).corr(),linewidths=0.1,vmax=1.0, \n",
    "            square=True, cmap=colormap, linecolor='white', annot=True)\n",
    "#多变量相关性图 要注意哦这里的变量所有的成对一一对应的\n",
    "g = sns.pairplot(train[[u'Survived', u'Pclass', u'Sex', u'Age', u'Parch', u'Fare', u'Embarked',\n",
    "       u'FamilySize', u'Title']], hue='Survived', palette = 'seismic',size=1.2,diag_kind = 'kde',diag_kws=dict(shade=True),plot_kws=dict(s=10) )\n",
    "g.set(xticklabels=[])"
   ]
  },
  {
   "cell_type": "markdown",
   "metadata": {},
   "source": [
    "# Stacking"
   ]
  },
  {
   "cell_type": "code",
   "execution_count": null,
   "metadata": {},
   "outputs": [],
   "source": [
    "######注意了，这里用的OOF的方法，看回word文档\n",
    "# clf.predict(x_test)所有测试集   clf.predict(x_te)K-flod中的K-1的训练集而已  https://www.kaggle.com/arthurtok/introduction-to-ensembling-stacking-in-python\n",
    "def get_oof(clf, x_train, y_train, x_test):\n",
    "    oof_train = np.zeros((ntrain,))\n",
    "    oof_test = np.zeros((ntest,))\n",
    "    oof_test_skf = np.empty((NFOLDS, ntest))\n",
    "\n",
    "    for i, (train_index, test_index) in enumerate(kf):\n",
    "        x_tr = x_train[train_index]\n",
    "        y_tr = y_train[train_index]\n",
    "        x_te = x_train[test_index]\n",
    "\n",
    "        clf.train(x_tr, y_tr)\n",
    "        \n",
    "        oof_train[test_index] = clf.predict(x_te)\n",
    "        oof_test_skf[i, :] = clf.predict(x_test)\n",
    "\n",
    "    oof_test[:] = oof_test_skf.mean(axis=0)\n",
    "    return oof_train.reshape(-1, 1), oof_test.reshape(-1, 1)"
   ]
  },
  {
   "cell_type": "raw",
   "metadata": {},
   "source": []
  },
  {
   "cell_type": "markdown",
   "metadata": {},
   "source": [
    "# Xgboost"
   ]
  },
  {
   "cell_type": "code",
   "execution_count": null,
   "metadata": {},
   "outputs": [],
   "source": [
    "xgbcl = XGBClassifier(n_estimators=14, seed=41)\n",
    "xgbcl.fit(X_train, target)\n",
    "print(xgbcl.score(X_train, target))\n",
    "\n",
    "#cv验证\n",
    "dtrain = xgb.DMatrix(data=X_train, label=target)\n",
    "params = {\n",
    "    \"Objective\": 'gbtree',\n",
    "    \"eval_metric\": 'error',\n",
    "    #\"eta\": 0.1\n",
    "}\n",
    "cv = xgb.cv(params=params, dtrain=dtrain, num_boost_round=100, nfold=5, seed=41, early_stopping_rounds= 10)\n",
    "cv.tail(1)\n",
    "\n",
    "\n",
    "\n",
    "\n",
    "\n",
    "\n",
    "#训练过程\n",
    "##先找参数\n",
    "model = xgb.XGBClassifier(booster='gbtree', silent=0, seed=0, base_score=0.5, subsample=0.75)\n",
    "parameters = {'n_estimators':[240,280,320],\n",
    "            'max_depth':[10,11,12],\n",
    "            'gamma':[0,1,2,3],\n",
    "            'max_delta_step':[0,1,2],\n",
    "            'min_child_weight':[1,2,3], \n",
    "            'colsample_bytree':[0.55,0.6,0.65],\n",
    "            'learning_rate':[0.1,0.2,0.3]\n",
    "            }\n",
    "model = GridSearchCV(model, parameters)\n",
    "model.fit(X_train,y_train)\n",
    "print('Best parameters founded : {}'.format(model.best_params_))\n",
    "##代入预测\n",
    "model = xgb.XGBClassifier(booster='gbtree', silent=1, seed=0, base_score=0.5, subsample=0.75)\n",
    "grid ={'max_delta_step': 0, 'max_depth': 10, 'min_child_weight': 2, 'n_estimators': 280, 'colsample_bytree': 0.65, 'gamma': 2}\n",
    "model.set_params(**grid)\n",
    "model.fit(X_train,y_train)\n",
    "#计算K-fold的值\n",
    "kfold = KFold(n_splits=10, random_state=7)\n",
    "results = cross_val_score(model, np.array(X_val), np.array(y_val), cv=kfold)\n",
    "print(\"Accuracy: %.2f%% (%.2f%%)\" % (results.mean()*100, results.std()*100))\n",
    "plot_importance(model)\n",
    "\n",
    "\n",
    "\n",
    "########################################可视化的决策树非常重要\n",
    "# xgb.plot_tree(xgbcl);、\n",
    "xgb.to_graphviz(xgbcl)\n",
    "\n",
    "\n",
    "######################################特征重要度非常重要\n",
    "xgb.plot_importance(xgbcl);\n",
    "\n",
    "\n",
    "##################Feature Interaction Constraints 限制变量相关性#################\n",
    "params_constrained = params.copy()\n",
    "# Use nested list to define feature interaction constraints\n",
    "params_constrained['interaction_constraints'] = '[[0, 2], [1, 3, 4], [5, 6]]'\n",
    "# Features 0 and 2 are allowed to interact with each other but with no other feature\n",
    "# Features 1, 3, 4 are allowed to interact with one another but with no other feature\n",
    "# Features 5 and 6 are allowed to interact with each other but with no other feature\n",
    "\n",
    "model_with_constraints = xgb.train(params_constrained, dtrain,\n",
    "                                   num_boost_round = 1000, evals = evallist,\n",
    "                                   early_stopping_rounds = 10)\n"
   ]
  }
 ],
 "metadata": {
  "kernelspec": {
   "display_name": "Python 3",
   "language": "python",
   "name": "python3"
  },
  "language_info": {
   "codemirror_mode": {
    "name": "ipython",
    "version": 3
   },
   "file_extension": ".py",
   "mimetype": "text/x-python",
   "name": "python",
   "nbconvert_exporter": "python",
   "pygments_lexer": "ipython3",
   "version": "3.6.4"
  }
 },
 "nbformat": 4,
 "nbformat_minor": 2
}
